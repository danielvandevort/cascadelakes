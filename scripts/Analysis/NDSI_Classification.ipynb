{
 "cells": [
  {
   "metadata": {},
   "cell_type": "markdown",
   "source": [
    "# NDSI Ice/Water Classification\n",
    "\n",
    "The classification is 1 for ice if NDSI > 0.5 else 0 for water.\n"
   ],
   "id": "3c9dbdd775fb3de5"
  },
  {
   "cell_type": "code",
   "id": "initial_id",
   "metadata": {
    "collapsed": true,
    "ExecuteTime": {
     "end_time": "2025-04-26T19:29:12.125874Z",
     "start_time": "2025-04-26T19:29:12.103005Z"
    }
   },
   "source": [
    "# imports and directories\n",
    "import os\n",
    "import pandas as pd\n",
    "from tqdm.notebook import tqdm\n",
    "\n",
    "#### DIRECTORIES ###\n",
    "hls_dir = r'USER_INPUT'\n",
    "icp_dir = r'USER_INPUT'"
   ],
   "outputs": [],
   "execution_count": 1
  },
  {
   "metadata": {},
   "cell_type": "markdown",
   "source": "## CLASSIFICATION",
   "id": "90ea421c1bdcaf3f"
  },
  {
   "metadata": {
    "ExecuteTime": {
     "end_time": "2025-04-26T20:07:19.180053Z",
     "start_time": "2025-04-26T19:29:29.158328Z"
    }
   },
   "cell_type": "code",
   "source": [
    "# Calculate the total number of rows across all files\n",
    "total_rows = 0\n",
    "ndsi_files = [f for f in os.listdir(hls_dir) if f.endswith(\".csv\")]\n",
    "for f in ndsi_files:\n",
    "    path = os.path.join(hls_dir, f)\n",
    "    try:\n",
    "        total_rows += sum(1 for _ in open(path)) - 1  # Calculate rows excluding header\n",
    "    except Exception as e:\n",
    "        print(f\"Error calculating rows for file {f}: {e}\")\n",
    "# Initialize tqdm progress bar with the total row count\n",
    "with tqdm(total=total_rows, desc='Classifying all pixels', unit='rows') as pbar:\n",
    "    for f in ndsi_files:\n",
    "        path = os.path.join(hls_dir, f)\n",
    "        try:\n",
    "            df = pd.read_csv(path)\n",
    "            df['ice_class'] = None  # Initialize the new column\n",
    "            for index, row in df.iterrows():\n",
    "                df.at[index, 'ice_class'] = 1 if row['NDSI'] >= 0.5 and (row['NIR_S'] > 0.11 or row['NIR_L'] > 0.11) else 0 # 1 = ice, 0 = water\n",
    "                pbar.update(1)  # Update progress bar for each processed row\n",
    "            df.to_csv(path, index=False)  # Overwrite existing file with classification\n",
    "        except Exception as e:\n",
    "            print(f\"Failed to process file {f}: {e}\")"
   ],
   "id": "5c76aa82c4051b99",
   "outputs": [
    {
     "data": {
      "text/plain": [
       "Classifying all pixels:   0%|          | 0/27289840 [00:00<?, ?rows/s]"
      ],
      "application/vnd.jupyter.widget-view+json": {
       "version_major": 2,
       "version_minor": 0,
       "model_id": "1bb5929511f44946a1c419263d81fccb"
      }
     },
     "metadata": {},
     "output_type": "display_data"
    }
   ],
   "execution_count": 2
  },
  {
   "metadata": {},
   "cell_type": "markdown",
   "source": [
    "## ICP (Ice coverage percentage) Calculation.\n",
    "Note: this method was developed for an earlier version of this project. While it is not used directly in the final analysis, it is retained here for reference and potential future use."
   ],
   "id": "b82fd733e74121bd"
  },
  {
   "metadata": {
    "ExecuteTime": {
     "end_time": "2025-04-26T20:19:16.204935Z",
     "start_time": "2025-04-26T20:18:05.259872Z"
    }
   },
   "cell_type": "code",
   "source": [
    "# Define the directory to store the ICP results\n",
    "def calculate_icp(df):\n",
    "    # Group by lake_id and date\n",
    "    grouped = df.groupby(['lake_id', 'date'])\n",
    "    results = []\n",
    "    for (lake_id, date), g in grouped:\n",
    "        total_pixels = len(g)\n",
    "        ice_pixels = g['ice_class'].sum()  # 1 for ice, 0 for water\n",
    "        if total_pixels > 0:\n",
    "            icp = (ice_pixels / total_pixels) * 100\n",
    "        else:\n",
    "            icp = 0.0\n",
    "        # Classify ice cover\n",
    "        if icp <= 25:\n",
    "            ice_class = 'open'\n",
    "        elif 25 < icp < 75:\n",
    "            ice_class = 'partial'\n",
    "        else:\n",
    "            ice_class = 'full'\n",
    "\n",
    "        results.append({\n",
    "            'lake_id': lake_id,\n",
    "            'date': date,\n",
    "            'hls2_icp_%': icp,\n",
    "            'ice_class': ice_class\n",
    "        })\n",
    "    return pd.DataFrame(results)\n",
    "print('Beginning ICP classification process...')\n",
    "# Process each classified CSV file\n",
    "classified_files = [f for f in os.listdir(hls_dir)]\n",
    "for f in tqdm(classified_files, desc='Calculating ICP...', unit='file'):\n",
    "    classified_df = pd.read_csv(os.path.join(hls_dir, f))\n",
    "    icp_df = calculate_icp(classified_df) # calc ICP\n",
    "    # Save the ICP results to a new CSV file\n",
    "    for lake_id in icp_df['lake_id'].unique():\n",
    "        lake_df = icp_df[icp_df['lake_id'] == lake_id]\n",
    "        # Save the ICP results to a new CSV file for each lake\n",
    "        output_file = os.path.join(icp_dir, f'lake_{lake_id}.csv')\n",
    "        lake_df.to_csv(output_file, index=False)\n",
    "print(\"ICP classification complete.\")\n"
   ],
   "id": "b8b25cf6683a3594",
   "outputs": [
    {
     "name": "stdout",
     "output_type": "stream",
     "text": [
      "Beginning ICP classification process...\n"
     ]
    },
    {
     "data": {
      "text/plain": [
       "Calculating ICP...:   0%|          | 0/2872 [00:00<?, ?file/s]"
      ],
      "application/vnd.jupyter.widget-view+json": {
       "version_major": 2,
       "version_minor": 0,
       "model_id": "72fe94b939214835a8aa6bfc0e0af280"
      }
     },
     "metadata": {},
     "output_type": "display_data"
    },
    {
     "name": "stdout",
     "output_type": "stream",
     "text": [
      "ICP classification complete.\n"
     ]
    }
   ],
   "execution_count": 3
  },
  {
   "metadata": {},
   "cell_type": "code",
   "source": "",
   "id": "333b4fa1c2c452a9",
   "outputs": [],
   "execution_count": null
  }
 ],
 "metadata": {
  "kernelspec": {
   "display_name": "Python 3",
   "language": "python",
   "name": "python3"
  },
  "language_info": {
   "codemirror_mode": {
    "name": "ipython",
    "version": 2
   },
   "file_extension": ".py",
   "mimetype": "text/x-python",
   "name": "python",
   "nbconvert_exporter": "python",
   "pygments_lexer": "ipython2",
   "version": "2.7.6"
  }
 },
 "nbformat": 4,
 "nbformat_minor": 5
}
